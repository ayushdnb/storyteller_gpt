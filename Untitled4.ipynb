{
 "cells": [
  {
   "cell_type": "code",
   "execution_count": 1,
   "id": "99f30b2c-ae16-4bbc-ad2c-7bc49e61783d",
   "metadata": {},
   "outputs": [
    {
     "name": "stdout",
     "output_type": "stream",
     "text": [
      "python.exe 98.4 11067 MB\n",
      "pythonw.exe 0.0 0 MB\n",
      "pythonw.exe 0.0 12 MB\n",
      "python.exe 4.7 59 MB\n",
      "python.exe 0.0 0 MB\n",
      "python.exe 0.0 12 MB\n",
      "python.exe 0.0 68 MB\n"
     ]
    }
   ],
   "source": [
    "import psutil\n",
    "for proc in psutil.process_iter():\n",
    "    if \"python\" in proc.name().lower():\n",
    "        print(proc.name(), proc.cpu_percent(interval=1.0), proc.memory_info().rss // (1024**2), \"MB\")\n"
   ]
  },
  {
   "cell_type": "code",
   "execution_count": null,
   "id": "4e943843-3ceb-449a-9669-208a19496af9",
   "metadata": {},
   "outputs": [],
   "source": []
  }
 ],
 "metadata": {
  "kernelspec": {
   "display_name": "Python 3 (AiProject)",
   "language": "python",
   "name": "aiproject"
  },
  "language_info": {
   "codemirror_mode": {
    "name": "ipython",
    "version": 3
   },
   "file_extension": ".py",
   "mimetype": "text/x-python",
   "name": "python",
   "nbconvert_exporter": "python",
   "pygments_lexer": "ipython3",
   "version": "3.11.11"
  }
 },
 "nbformat": 4,
 "nbformat_minor": 5
}
